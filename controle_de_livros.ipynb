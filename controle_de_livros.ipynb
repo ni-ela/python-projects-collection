{
  "nbformat": 4,
  "nbformat_minor": 0,
  "metadata": {
    "colab": {
      "provenance": [],
      "authorship_tag": "ABX9TyOt3/j9blfwNNEBoZu2+VIE",
      "include_colab_link": true
    },
    "kernelspec": {
      "name": "python3",
      "display_name": "Python 3"
    },
    "language_info": {
      "name": "python"
    }
  },
  "cells": [
    {
      "cell_type": "markdown",
      "metadata": {
        "id": "view-in-github",
        "colab_type": "text"
      },
      "source": [
        "<a href=\"https://colab.research.google.com/github/ni-ela/python-projects-collection/blob/master/controle_de_livros.ipynb\" target=\"_parent\"><img src=\"https://colab.research.google.com/assets/colab-badge.svg\" alt=\"Open In Colab\"/></a>"
      ]
    },
    {
      "cell_type": "markdown",
      "source": [
        "**Estudo de Bibliotecas e Módulos Em Python**\n",
        "\n",
        "Matplotlib\n",
        "\n",
        "*Daniela Ferreira Feitosa*\n"
      ],
      "metadata": {
        "id": "LsCFhR1nWrEi"
      }
    },
    {
      "cell_type": "code",
      "source": [
        "# Instalacao da Matplotlib. Conforme orientacao do professor, importa-se no topo do codigo\n",
        "from matplotlib import pyplot as mpl\n",
        "\n",
        "# Define classe livro com os atributos titulo, autor, genero e quantidade\n",
        "class Livro:\n",
        "  def __init__(self, titulo, autor, genero, quantidade):\n",
        "    self.titulo = titulo\n",
        "    self.autor = autor\n",
        "    self.genero = genero\n",
        "    self.quantidade = quantidade\n",
        "\n",
        "# Inicializa lista vazia\n",
        "livros = [\n",
        "    Livro(\"A Moreninha\", \"Joaquim Manuel de Macedo\", \"Romance\", 6),\n",
        "    Livro(\"Flores para Algernon\", \"Daniel Keyes\", \"Ficção científica\", 10),\n",
        "    Livro(\"Interestelar\", \"Christopher Nolan\", \"Ficção científica\", 4),\n",
        "    Livro(\"Harry Potter e a Pedra Filosofal\", \"J.K. Rowling\", \"Fantasia\", 1),\n",
        "    Livro(\"O Senhor dos Anéis\", \"J.R.R. Tolkien\", \"Fantasia\", 2)\n",
        "]\n",
        "\n",
        "# Define funcao para cadastrar um novo livro\n",
        "def adicionar_livro():\n",
        "  # Recebe dados pela entrada do usuario\n",
        "  titulo = input(\"Digite o titulo do livro: \")\n",
        "  autor = input(\"Digite o autor do livro: \")\n",
        "  genero = input(\"Digite o genero do livro: \")\n",
        "  quantidade = int(input(\"Digite a quantidade de livros: \"))\n",
        "\n",
        "  # Instancia um novo livro e adiciona na lista de livros\n",
        "  livro = Livro(titulo, autor, genero, quantidade)\n",
        "  livros.append(livro)\n",
        "\n",
        "  # Imprime mensagem de sucesso para o usuario\n",
        "  print(\"\\n\")\n",
        "  print(\"Livro cadastrado com sucesso!\")\n",
        "  print(\"--------------------------------\")\n",
        "  print(\"\\n\")\n",
        "\n",
        "# Define funcao para recuperar a listagem de todos os livros\n",
        "def listar_livros():\n",
        "  # Imprime mensagem de cabecalho para o usuario\n",
        "  print(\"Lista de livros:\")\n",
        "  print(\"\\n\")\n",
        "\n",
        "  # Imprime dados de cada livro da lista livros para o usuario\n",
        "  for livro in livros:\n",
        "    print(f\"Titulo: {livro.titulo}\")\n",
        "    print(f\"Autor: {livro.autor}\")\n",
        "    print(f\"Genero: {livro.genero}\")\n",
        "    print(f\"Quantidade: {livro.quantidade}\")\n",
        "    print(\"\\n\")\n",
        "\n",
        "  # Imprime \"rodape\", para melhor visualizacao ao usuario\n",
        "  print(\"--------------------------------\")\n",
        "  print(\"\\n\")\n",
        "\n",
        "# Define funcao para buscar um livro pelo titulo\n",
        "def buscar_livro(titulo):\n",
        "  livro_buscado = {}\n",
        "\n",
        "  # Percorre a lista de livros buscando pelo dado titulo\n",
        "  for livro in livros:\n",
        "    if livro.titulo == titulo:\n",
        "      livro_buscado = livro\n",
        "      break # Se encontrado, o fluxo de busca é encerrado\n",
        "\n",
        "  # Valida se o titulo foi encontrado na listagem de livros\n",
        "  if(livro_buscado):\n",
        "\n",
        "    # Imprime dados do livro buscado pelo titulo\n",
        "    print(f\"Titulo: {livro_buscado.titulo}\")\n",
        "    print(f\"Autor: {livro_buscado.autor}\")\n",
        "    print(f\"Genero: {livro_buscado.genero}\")\n",
        "    print(f\"Quantidade: {livro_buscado.quantidade}\")\n",
        "\n",
        "    # Imprime \"rodape\", para melhor visualizacao ao usuario\n",
        "    print(\"\\n\")\n",
        "    print(\"--------------------------------\")\n",
        "    print(\"\\n\")\n",
        "  else:\n",
        "\n",
        "    # Caso o titulo nao pertenca a nenhum livro cadastrado, o usuario é informado\n",
        "    print(f\"Não há livro cadastrado com o titulo {titulo}\")\n",
        "\n",
        "# Define funcao para agrupar livros por genero\n",
        "def agrupar_por_genero():\n",
        "  # cria um conjunto de generos a partir da funcao set\n",
        "  generos = set(livro.genero for livro in livros)\n",
        "\n",
        "  # cria um dicionario para associar a quantidade de livros pelo genero\n",
        "  quantidade_por_genero = { genero: 0 for genero in generos }\n",
        "\n",
        "  # percorre a lista de livros somando cada quantidade pelo genero\n",
        "  for livro in livros:\n",
        "    quantidade_por_genero[livro.genero] += livro.quantidade\n",
        "\n",
        "  return quantidade_por_genero.keys(), quantidade_por_genero.values()\n",
        "\n",
        "# Define funcao para gerar o gráfico de quantidade de livros por genero\n",
        "def gerar_grafico():\n",
        "\n",
        "  # Obtem agrupamentos de geberos e quantidades\n",
        "  generos, quantidades = agrupar_por_genero()\n",
        "\n",
        "  # Define propriedades do grafico (titulo, labels e dados para exibir)\n",
        "  mpl.title(\"Quantidade de livros por genero\")\n",
        "  mpl.xlabel(\"Genero\")\n",
        "  mpl.ylabel(\"Quantidade\")\n",
        "  mpl.bar(generos, quantidades, color=\"black\")\n",
        "  mpl.show()\n",
        "\n",
        "# Define funcao para lidar com o fluxo do programa, permitindo o usuario acessar as opcoes disponiveis\n",
        "def main():\n",
        "  while True:\n",
        "\n",
        "    # Imprime menu inicial\n",
        "    print(\"Menu:\")\n",
        "    print(\"1. Adicionar livro\")\n",
        "    print(\"2. Listar livros\")\n",
        "    print(\"3. Buscar livro por titulo\")\n",
        "    print(\"4. Exibir livros por genero\")\n",
        "    print(\"5. Sair\")\n",
        "    print(\"\\n\")\n",
        "\n",
        "    # Recebe opcao do usuario\n",
        "    opcao = input(\"Escolha uma opcao: \")\n",
        "\n",
        "    print(\"\\n\")\n",
        "\n",
        "    # Lida com opcao escolhida pelo usuario\n",
        "    if opcao == \"1\":\n",
        "      adicionar_livro()\n",
        "    elif opcao == \"2\":\n",
        "      listar_livros()\n",
        "    elif opcao == \"3\":\n",
        "      titulo = input(\"Digite o titulo do livro a ser buscado: \")\n",
        "      buscar_livro(titulo)\n",
        "    elif opcao == \"4\":\n",
        "      gerar_grafico()\n",
        "    elif opcao == \"5\":\n",
        "      print(\"Saindo do programa...\")\n",
        "      break\n",
        "    else:\n",
        "      print(\"Opcao invalida. Tente novamente.\")\n",
        "\n",
        "# Inicia o programa\n",
        "main()"
      ],
      "metadata": {
        "colab": {
          "base_uri": "https://localhost:8080/",
          "height": 1000
        },
        "id": "73me-of_BEpv",
        "outputId": "c844cf7d-76c7-4cda-b5ee-a42ae81a79b8"
      },
      "execution_count": null,
      "outputs": [
        {
          "output_type": "stream",
          "name": "stdout",
          "text": [
            "Menu:\n",
            "1. Adicionar livro\n",
            "2. Listar livros\n",
            "3. Buscar livro por titulo\n",
            "4. Exibir livros por genero\n",
            "5. Sair\n",
            "\n",
            "\n",
            "Escolha uma opcao: 4\n",
            "\n",
            "\n"
          ]
        },
        {
          "output_type": "display_data",
          "data": {
            "text/plain": [
              "<Figure size 640x480 with 1 Axes>"
            ],
            "image/png": "[encoded data removed]"
          },
          "metadata": {}
        },
        {
          "output_type": "stream",
          "name": "stdout",
          "text": [
            "Menu:\n",
            "1. Adicionar livro\n",
            "2. Listar livros\n",
            "3. Buscar livro por titulo\n",
            "4. Exibir livros por genero\n",
            "5. Sair\n",
            "\n",
            "\n"
          ]
        },
        {
          "output_type": "error",
          "ename": "KeyboardInterrupt",
          "evalue": "Interrupted by user",
          "traceback": [
            "\u001b[0;31m---------------------------------------------------------------------------\u001b[0m",
            "\u001b[0;31mKeyboardInterrupt\u001b[0m                         Traceback (most recent call last)",
            "\u001b[0;32m<ipython-input-11-c7a02042bdeb>\u001b[0m in \u001b[0;36m<cell line: 147>\u001b[0;34m()\u001b[0m\n\u001b[1;32m    145\u001b[0m \u001b[0;34m\u001b[0m\u001b[0m\n\u001b[1;32m    146\u001b[0m \u001b[0;31m# Inicia o programa\u001b[0m\u001b[0;34m\u001b[0m\u001b[0;34m\u001b[0m\u001b[0m\n\u001b[0;32m--> 147\u001b[0;31m \u001b[0mmain\u001b[0m\u001b[0;34m(\u001b[0m\u001b[0;34m)\u001b[0m\u001b[0;34m\u001b[0m\u001b[0;34m\u001b[0m\u001b[0m\n\u001b[0m",
            "\u001b[0;32m<ipython-input-11-c7a02042bdeb>\u001b[0m in \u001b[0;36mmain\u001b[0;34m()\u001b[0m\n\u001b[1;32m    124\u001b[0m \u001b[0;34m\u001b[0m\u001b[0m\n\u001b[1;32m    125\u001b[0m     \u001b[0;31m# Recebe opcao do usuario\u001b[0m\u001b[0;34m\u001b[0m\u001b[0;34m\u001b[0m\u001b[0m\n\u001b[0;32m--> 126\u001b[0;31m     \u001b[0mopcao\u001b[0m \u001b[0;34m=\u001b[0m \u001b[0minput\u001b[0m\u001b[0;34m(\u001b[0m\u001b[0;34m\"Escolha uma opcao: \"\u001b[0m\u001b[0;34m)\u001b[0m\u001b[0;34m\u001b[0m\u001b[0;34m\u001b[0m\u001b[0m\n\u001b[0m\u001b[1;32m    127\u001b[0m \u001b[0;34m\u001b[0m\u001b[0m\n\u001b[1;32m    128\u001b[0m     \u001b[0mprint\u001b[0m\u001b[0;34m(\u001b[0m\u001b[0;34m\"\\n\"\u001b[0m\u001b[0;34m)\u001b[0m\u001b[0;34m\u001b[0m\u001b[0;34m\u001b[0m\u001b[0m\n",
            "\u001b[0;32m/usr/local/lib/python3.10/dist-packages/ipykernel/kernelbase.py\u001b[0m in \u001b[0;36mraw_input\u001b[0;34m(self, prompt)\u001b[0m\n\u001b[1;32m    849\u001b[0m                 \u001b[0;34m\"raw_input was called, but this frontend does not support input requests.\"\u001b[0m\u001b[0;34m\u001b[0m\u001b[0;34m\u001b[0m\u001b[0m\n\u001b[1;32m    850\u001b[0m             )\n\u001b[0;32m--> 851\u001b[0;31m         return self._input_request(str(prompt),\n\u001b[0m\u001b[1;32m    852\u001b[0m             \u001b[0mself\u001b[0m\u001b[0;34m.\u001b[0m\u001b[0m_parent_ident\u001b[0m\u001b[0;34m,\u001b[0m\u001b[0;34m\u001b[0m\u001b[0;34m\u001b[0m\u001b[0m\n\u001b[1;32m    853\u001b[0m             \u001b[0mself\u001b[0m\u001b[0;34m.\u001b[0m\u001b[0m_parent_header\u001b[0m\u001b[0;34m,\u001b[0m\u001b[0;34m\u001b[0m\u001b[0;34m\u001b[0m\u001b[0m\n",
            "\u001b[0;32m/usr/local/lib/python3.10/dist-packages/ipykernel/kernelbase.py\u001b[0m in \u001b[0;36m_input_request\u001b[0;34m(self, prompt, ident, parent, password)\u001b[0m\n\u001b[1;32m    893\u001b[0m             \u001b[0;32mexcept\u001b[0m \u001b[0mKeyboardInterrupt\u001b[0m\u001b[0;34m:\u001b[0m\u001b[0;34m\u001b[0m\u001b[0;34m\u001b[0m\u001b[0m\n\u001b[1;32m    894\u001b[0m                 \u001b[0;31m# re-raise KeyboardInterrupt, to truncate traceback\u001b[0m\u001b[0;34m\u001b[0m\u001b[0;34m\u001b[0m\u001b[0m\n\u001b[0;32m--> 895\u001b[0;31m                 \u001b[0;32mraise\u001b[0m \u001b[0mKeyboardInterrupt\u001b[0m\u001b[0;34m(\u001b[0m\u001b[0;34m\"Interrupted by user\"\u001b[0m\u001b[0;34m)\u001b[0m \u001b[0;32mfrom\u001b[0m \u001b[0;32mNone\u001b[0m\u001b[0;34m\u001b[0m\u001b[0;34m\u001b[0m\u001b[0m\n\u001b[0m\u001b[1;32m    896\u001b[0m             \u001b[0;32mexcept\u001b[0m \u001b[0mException\u001b[0m \u001b[0;32mas\u001b[0m \u001b[0me\u001b[0m\u001b[0;34m:\u001b[0m\u001b[0;34m\u001b[0m\u001b[0;34m\u001b[0m\u001b[0m\n\u001b[1;32m    897\u001b[0m                 \u001b[0mself\u001b[0m\u001b[0;34m.\u001b[0m\u001b[0mlog\u001b[0m\u001b[0;34m.\u001b[0m\u001b[0mwarning\u001b[0m\u001b[0;34m(\u001b[0m\u001b[0;34m\"Invalid Message:\"\u001b[0m\u001b[0;34m,\u001b[0m \u001b[0mexc_info\u001b[0m\u001b[0;34m=\u001b[0m\u001b[0;32mTrue\u001b[0m\u001b[0;34m)\u001b[0m\u001b[0;34m\u001b[0m\u001b[0;34m\u001b[0m\u001b[0m\n",
            "\u001b[0;31mKeyboardInterrupt\u001b[0m: Interrupted by user"
          ]
        }
      ]
    }
  ]
}