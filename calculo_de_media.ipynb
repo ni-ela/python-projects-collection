{
  "nbformat": 4,
  "nbformat_minor": 0,
  "metadata": {
    "colab": {
      "provenance": [],
      "authorship_tag": "ABX9TyMm1sLfkhWAt+n+/Jvy183G",
      "include_colab_link": true
    },
    "kernelspec": {
      "name": "python3",
      "display_name": "Python 3"
    },
    "language_info": {
      "name": "python"
    }
  },
  "cells": [
    {
      "cell_type": "markdown",
      "metadata": {
        "id": "view-in-github",
        "colab_type": "text"
      },
      "source": [
        "<a href=\"https://colab.research.google.com/github/ni-ela/python-projects-collection/blob/master/calculo_de_media.ipynb\" target=\"_parent\"><img src=\"https://colab.research.google.com/assets/colab-badge.svg\" alt=\"Open In Colab\"/></a>"
      ]
    },
    {
      "cell_type": "markdown",
      "source": [
        "**Unidade 1 - Funções em Python**\n",
        "\n",
        "*Daniela Ferreira Feitosa*"
      ],
      "metadata": {
        "id": "5F1EaKxPIkfX"
      }
    },
    {
      "cell_type": "code",
      "source": [
        "# Inicializa lista de notas\n",
        "notas = []\n",
        "\n",
        "# Recebe as notas pela entrada de usuário\n",
        "def receber_notas():\n",
        "  for i in range(4):\n",
        "    nota = float(input(f\"Digite a nota {i+1}: \"))\n",
        "\n",
        "    # Insere cada nota na lista notas\n",
        "    notas.append(nota)\n",
        "\n",
        "# Realiza o cálculo da média\n",
        "def calcular_media():\n",
        "  return sum(notas) / len(notas)\n",
        "\n",
        "# Verifica a situação do aluno\n",
        "def verificar_aprovacao(media, nota_minima=7):\n",
        "  if media >= nota_minima:\n",
        "    return \"Aprovado\"\n",
        "  else:\n",
        "    return \"Reprovado\"\n",
        "\n",
        "# Exibe o relatório de notas e resultados\n",
        "def exibir_relatorio(media, situacao):\n",
        "  print(\"\\n Relatório de Notas:\")\n",
        "  print(\"---------------------\")\n",
        "  for i, nota in enumerate(notas):\n",
        "    print(f\"Nota {i+1}: {nota}\")\n",
        "\n",
        "  print(f\"Média do aluno: {media:.2f}\")\n",
        "  print(f\"Situação do aluno: {situacao}\")\n",
        "\n",
        "# Chamada das funções\n",
        "receber_notas()\n",
        "media = calcular_media()\n",
        "situacao = verificar_aprovacao(media)\n",
        "exibir_relatorio(media, situacao)"
      ],
      "metadata": {
        "colab": {
          "base_uri": "https://localhost:8080/"
        },
        "id": "nNG_yxIYIj7c",
        "outputId": "70f3d7ea-115e-4ded-9587-dd02671b3299"
      },
      "execution_count": null,
      "outputs": [
        {
          "output_type": "stream",
          "name": "stdout",
          "text": [
            "Digite a nota 1: 4.55\n",
            "Digite a nota 2: 5\n",
            "Digite a nota 3: 6.9\n",
            "Digite a nota 4: 9\n",
            "\n",
            " Relatório de Notas:\n",
            "---------------------\n",
            "Nota 1: 4.55\n",
            "Nota 2: 5.0\n",
            "Nota 3: 6.9\n",
            "Nota 4: 9.0\n",
            "Média do aluno: 6.36\n",
            "Situação do aluno: Reprovado\n"
          ]
        }
      ]
    }
  ]
}